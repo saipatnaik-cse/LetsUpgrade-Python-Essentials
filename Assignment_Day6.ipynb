{
 "cells": [
  {
   "cell_type": "markdown",
   "metadata": {},
   "source": [
    "# Question 1\n",
    "For this challenge,create a bank account class that has two attributes\n",
    "*ownerName\n",
    "*Balance\n",
    "And two methods\n",
    "*deposit\n",
    "*withdraw\n",
    "As an added requirement,withdrawals may not exceed the available balance.\n",
    "Instantiate your class,make several deposits and withdrawals,and test to make sure the account\n",
    "cant be overdrawn."
   ]
  },
  {
   "cell_type": "code",
   "execution_count": 14,
   "metadata": {},
   "outputs": [
    {
     "name": "stdout",
     "output_type": "stream",
     "text": [
      "Your Account is Created.\n",
      "Enter amount to be Deposited: 10000\n",
      "\n",
      " Amount Deposited: 10000.0\n",
      "Enter amount to be Withdrawn: 2500\n",
      "\n",
      " You Withdrew: 2500.0\n",
      "\n",
      " Net Available Balance= 7500.0\n"
     ]
    }
   ],
   "source": [
    "class Bank_Account: \n",
    "    def __init__(self,ownername):\n",
    "        self.ownername = ownername\n",
    "        self.balance=0\n",
    "        print('Your Account is Created.') \n",
    "  \n",
    "    def deposit(self): \n",
    "        amount=float(input(\"Enter amount to be Deposited: \")) \n",
    "        self.balance += amount \n",
    "        print(\"\\n Amount Deposited:\",amount) \n",
    "  \n",
    "    def withdraw(self): \n",
    "        amount = float(input(\"Enter amount to be Withdrawn: \")) \n",
    "        if self.balance>=amount: \n",
    "            self.balance-=amount \n",
    "            print(\"\\n You Withdrew:\", amount) \n",
    "        else: \n",
    "            print(\"\\n Insufficient balance  \") \n",
    "  \n",
    "    def display(self): \n",
    "        print(\"\\n Net Available Balance=\",self.balance)\n",
    "        \n",
    "         \n",
    "s = Bank_Account(\"Sai Kumar Patnaik\")  \n",
    "s.deposit() \n",
    "s.withdraw() \n",
    "s.display() "
   ]
  },
  {
   "cell_type": "markdown",
   "metadata": {},
   "source": [
    "# Checking that  the account can't be overdrawn."
   ]
  },
  {
   "cell_type": "code",
   "execution_count": 15,
   "metadata": {},
   "outputs": [
    {
     "name": "stdout",
     "output_type": "stream",
     "text": [
      "Your Account is Created.\n",
      "Enter amount to be Deposited: 6000\n",
      "\n",
      " Amount Deposited: 6000.0\n",
      "Enter amount to be Withdrawn: 7500\n",
      "\n",
      " Insufficient balance  \n",
      "\n",
      " Net Available Balance= 6000.0\n"
     ]
    }
   ],
   "source": [
    "class Bank_Account: \n",
    "    def __init__(self,ownername):\n",
    "        self.ownername = ownername\n",
    "        self.balance=0\n",
    "        print('Your Account is Created.') \n",
    "  \n",
    "    def deposit(self): \n",
    "        amount=float(input(\"Enter amount to be Deposited: \")) \n",
    "        self.balance += amount \n",
    "        print(\"\\n Amount Deposited:\",amount) \n",
    "  \n",
    "    def withdraw(self): \n",
    "        amount = float(input(\"Enter amount to be Withdrawn: \")) \n",
    "        if self.balance>=amount: \n",
    "            self.balance-=amount \n",
    "            print(\"\\n You Withdrew:\", amount) \n",
    "        else: \n",
    "            print(\"\\n Insufficient balance  \") \n",
    "  \n",
    "    def display(self): \n",
    "        print(\"\\n Net Available Balance=\",self.balance)\n",
    "        \n",
    "         \n",
    "s = Bank_Account(\"Sai Kumar Patnaik\")  \n",
    "s.deposit() \n",
    "s.withdraw() \n",
    "s.display() "
   ]
  },
  {
   "cell_type": "markdown",
   "metadata": {},
   "source": [
    "# Question 2\n",
    "For this challenge,create a cone class that has two attributes:\n",
    "*R=Radius\n",
    "*h=Height\n",
    "And two methods:\n",
    "*Volume = Π * r2 = (h/3)\n",
    "*Surface area : base : Π * r2 , side : Π * r * √(r2 + h2)\n",
    "Make only one class with functions,as in where required import Math."
   ]
  },
  {
   "cell_type": "code",
   "execution_count": 13,
   "metadata": {},
   "outputs": [
    {
     "name": "stdout",
     "output_type": "stream",
     "text": [
      "Enter radius of Cone: 5\n",
      "Enter height of Cone: 7\n",
      "Volume of Cone: 183.25957145940458\n",
      "Surface area of Cone: 213.6648256533997\n"
     ]
    }
   ],
   "source": [
    "import math\n",
    "class cone():\n",
    "    def __init__(self,Radius,Height):\n",
    "        self.Radius=Radius\n",
    "        self.Height=Height\n",
    "        \n",
    "    def Volume(self):\n",
    "        return (1.0/3) * math.pi * Radius * Radius * Height        \n",
    "    def Surface_area(self):\n",
    "        return (math.pi * Radius * Radius) + (math.pi * Radius * math.sqrt(Radius * Radius + Height * Height))\n",
    "    \n",
    " \n",
    "Radius =int(input(\"Enter radius of Cone: \"))\n",
    "Height =int(input(\"Enter height of Cone: \"))\n",
    "obj=cone(r,h)\n",
    "print(\"Volume of Cone:\", obj.Volume())\n",
    "print(\"Surface area of Cone:\",obj.Surface_area())"
   ]
  },
  {
   "cell_type": "code",
   "execution_count": null,
   "metadata": {},
   "outputs": [],
   "source": []
  }
 ],
 "metadata": {
  "kernelspec": {
   "display_name": "Python 3",
   "language": "python",
   "name": "python3"
  },
  "language_info": {
   "codemirror_mode": {
    "name": "ipython",
    "version": 3
   },
   "file_extension": ".py",
   "mimetype": "text/x-python",
   "name": "python",
   "nbconvert_exporter": "python",
   "pygments_lexer": "ipython3",
   "version": "3.7.6"
  }
 },
 "nbformat": 4,
 "nbformat_minor": 4
}
